{
  "nbformat": 4,
  "nbformat_minor": 0,
  "metadata": {
    "colab": {
      "provenance": []
    },
    "kernelspec": {
      "name": "python3",
      "display_name": "Python 3"
    },
    "language_info": {
      "name": "python"
    }
  },
  "cells": [
    {
      "cell_type": "code",
      "execution_count": null,
      "metadata": {
        "id": "T6b1aA5hyd6t"
      },
      "outputs": [],
      "source": [
        "def EjemploCorrutina(secreto=18):\n",
        "  numero = yield 'Adivine un numero del 1 al 10  '\n",
        "  while True:\n",
        "   if numero==secreto:\n",
        "      mensaje = \"Gano\"\n",
        "   else:\n",
        "      mensaje= \"Vuelve a intentar\"\n",
        "   numero= yield mensaje\n",
        "\n",
        "una_corrutina=EjemploCorrutina(18)\n",
        "pregunta= next(una_corrutina)\n",
        "while True:\n",
        "  numero=int(input(pregunta))\n",
        "  mensaje=una_corrutina.send(numero)\n",
        "  print(mensaje)\n",
        "  if mensaje=='Gano':\n",
        "    break"
      ]
    }
  ]
}