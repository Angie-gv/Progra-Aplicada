{
  "nbformat": 4,
  "nbformat_minor": 0,
  "metadata": {
    "colab": {
      "provenance": [],
      "authorship_tag": "ABX9TyMk9NQ9QRNsS1CLtfAJdZFq",
      "include_colab_link": true
    },
    "kernelspec": {
      "name": "python3",
      "display_name": "Python 3"
    },
    "language_info": {
      "name": "python"
    }
  },
  "cells": [
    {
      "cell_type": "markdown",
      "metadata": {
        "id": "view-in-github",
        "colab_type": "text"
      },
      "source": [
        "<a href=\"https://colab.research.google.com/github/Angie-gv/Progra-Aplicada/blob/main/Corrutinas.ipynb\" target=\"_parent\"><img src=\"https://colab.research.google.com/assets/colab-badge.svg\" alt=\"Open In Colab\"/></a>"
      ]
    },
    {
      "cell_type": "code",
      "execution_count": 8,
      "metadata": {
        "id": "T6b1aA5hyd6t",
        "colab": {
          "base_uri": "https://localhost:8080/"
        },
        "outputId": "0516266e-f905-4d0c-ed54-e639c2168a23"
      },
      "outputs": [
        {
          "output_type": "stream",
          "name": "stdout",
          "text": [
            "Adivine un numero del 1 al 10  10\n",
            "Vuelve a intentar\n",
            "Adivine un numero del 1 al 10  18\n",
            "Vuelve a intentar\n",
            "Adivine un numero del 1 al 10  6\n",
            "Vuelve a intentar\n",
            "Adivine un numero del 1 al 10  8\n",
            "Gano\n"
          ]
        }
      ],
      "source": [
        "def EjemploCorrutina(secreto=8):\n",
        "  numero = yield 'Adivine un numero del 1 al 10  '\n",
        "  while True:\n",
        "   if numero==secreto:\n",
        "      mensaje = \"Gano\"\n",
        "   else:\n",
        "      mensaje= \"Vuelve a intentar\"\n",
        "   numero= yield mensaje\n",
        "\n",
        "una_corrutina=EjemploCorrutina(8)\n",
        "pregunta= next(una_corrutina)\n",
        "while True:\n",
        "  numero=int(input(pregunta))\n",
        "  mensaje=una_corrutina.send(numero)\n",
        "  print(mensaje)\n",
        "  if mensaje=='Gano':\n",
        "    break"
      ]
    }
  ]
}