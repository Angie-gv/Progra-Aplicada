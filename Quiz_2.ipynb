{
  "nbformat": 4,
  "nbformat_minor": 0,
  "metadata": {
    "colab": {
      "provenance": [],
      "authorship_tag": "ABX9TyPIJl0J6/AMUZ9zipkd0n4p",
      "include_colab_link": true
    },
    "kernelspec": {
      "name": "python3",
      "display_name": "Python 3"
    },
    "language_info": {
      "name": "python"
    }
  },
  "cells": [
    {
      "cell_type": "markdown",
      "metadata": {
        "id": "view-in-github",
        "colab_type": "text"
      },
      "source": [
        "<a href=\"https://colab.research.google.com/github/Angie-gv/Progra-Aplicada/blob/main/Quiz_2.ipynb\" target=\"_parent\"><img src=\"https://colab.research.google.com/assets/colab-badge.svg\" alt=\"Open In Colab\"/></a>"
      ]
    },
    {
      "cell_type": "code",
      "execution_count": 1,
      "metadata": {
        "colab": {
          "base_uri": "https://localhost:8080/"
        },
        "id": "Tuv27v_e2j4f",
        "outputId": "452ff08f-a142-432b-a8ce-3f94784dfca1"
      },
      "outputs": [
        {
          "output_type": "stream",
          "name": "stdout",
          "text": [
            "\begin{itemize}\n",
            "\n",
            "  \\item uno\n",
            "  \\item dos\n",
            "  \\item tres\n",
            "\n",
            "\\end{itemize}\n"
          ]
        }
      ],
      "source": [
        "txt = 'uno, dos, tres'\n",
        "\n",
        "print(\"\\begin{itemize}\\n\")\n",
        "\n",
        "def texlatex2(txt):\n",
        "    items = txt.split(', ')\n",
        "    latex_list =\"  \\item \" + \"\\n  \\item \".join(items) + \"\\n\"\n",
        "    return latex_list\n",
        "\n",
        "latex_output = texlatex2(txt)\n",
        "\n",
        "latex_output\n",
        "print(latex_output)\n",
        "\n",
        "print(\"\\end{itemize}\")"
      ]
    },
    {
      "cell_type": "code",
      "source": [],
      "metadata": {
        "id": "OegWYL7Q7jfZ"
      },
      "execution_count": null,
      "outputs": []
    }
  ]
}