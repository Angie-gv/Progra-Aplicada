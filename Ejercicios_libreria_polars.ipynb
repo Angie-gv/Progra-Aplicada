{
  "nbformat": 4,
  "nbformat_minor": 0,
  "metadata": {
    "colab": {
      "provenance": [],
      "authorship_tag": "ABX9TyMkQwDYrv+yXUdfAAQxbUeh",
      "include_colab_link": true
    },
    "kernelspec": {
      "name": "python3",
      "display_name": "Python 3"
    },
    "language_info": {
      "name": "python"
    }
  },
  "cells": [
    {
      "cell_type": "markdown",
      "metadata": {
        "id": "view-in-github",
        "colab_type": "text"
      },
      "source": [
        "<a href=\"https://colab.research.google.com/github/Angie-gv/Progra-Aplicada/blob/main/Ejercicios_libreria_polars.ipynb\" target=\"_parent\"><img src=\"https://colab.research.google.com/assets/colab-badge.svg\" alt=\"Open In Colab\"/></a>"
      ]
    },
    {
      "cell_type": "code",
      "execution_count": 1,
      "metadata": {
        "colab": {
          "base_uri": "https://localhost:8080/"
        },
        "id": "7mNB1SUS_7rO",
        "outputId": "0df84424-211a-4741-b90a-1fc0edd7e38c"
      },
      "outputs": [
        {
          "output_type": "stream",
          "name": "stdout",
          "text": [
            "shape: (5,)\n",
            "Series: 'a' [i64]\n",
            "[\n",
            "\t1\n",
            "\t2\n",
            "\t3\n",
            "\t4\n",
            "\t5\n",
            "]\n"
          ]
        }
      ],
      "source": [
        "import polars as pl\n",
        "\n",
        "s = pl.Series(\"a\", [1, 2, 3, 4, 5])\n",
        "print(s)\n",
        ""
      ]
    },
    {
      "cell_type": "code",
      "source": [
        "from datetime import datetime\n",
        "\n",
        "df = pl.DataFrame(\n",
        "    {\n",
        "\n",
        "        \"integer\": [1, 2, 3, 4, 5],\n",
        "        \"date\": [\n",
        "            datetime(2022, 1, 1),\n",
        "            datetime(2022, 1, 2),\n",
        "            datetime(2022, 1, 3),\n",
        "            datetime(2022, 1, 4),\n",
        "            datetime(2022, 1, 5),\n",
        "        ],\n",
        "        \"float\": [4.0, 5.0, 6.0, 7.0, 8.0],\n",
        "        \"int\": [0, 1, 2, 3, 4],\n",
        "    }\n",
        ")\n",
        "\n",
        "print(df)"
      ],
      "metadata": {
        "colab": {
          "base_uri": "https://localhost:8080/"
        },
        "id": "F9USHpBVAAbc",
        "outputId": "36aa196f-8d6b-446e-984c-ca7aa853ce49"
      },
      "execution_count": 2,
      "outputs": [
        {
          "output_type": "stream",
          "name": "stdout",
          "text": [
            "shape: (5, 4)\n",
            "┌─────────┬─────────────────────┬───────┬─────┐\n",
            "│ integer ┆ date                ┆ float ┆ int │\n",
            "│ ---     ┆ ---                 ┆ ---   ┆ --- │\n",
            "│ i64     ┆ datetime[μs]        ┆ f64   ┆ i64 │\n",
            "╞═════════╪═════════════════════╪═══════╪═════╡\n",
            "│ 1       ┆ 2022-01-01 00:00:00 ┆ 4.0   ┆ 0   │\n",
            "│ 2       ┆ 2022-01-02 00:00:00 ┆ 5.0   ┆ 1   │\n",
            "│ 3       ┆ 2022-01-03 00:00:00 ┆ 6.0   ┆ 2   │\n",
            "│ 4       ┆ 2022-01-04 00:00:00 ┆ 7.0   ┆ 3   │\n",
            "│ 5       ┆ 2022-01-05 00:00:00 ┆ 8.0   ┆ 4   │\n",
            "└─────────┴─────────────────────┴───────┴─────┘\n"
          ]
        }
      ]
    },
    {
      "cell_type": "code",
      "source": [
        "import polars as pl\n",
        "import numpy as np\n",
        "from datetime import datetime\n",
        "\n",
        "df = pl.DataFrame(\n",
        "    {\n",
        "        \"nrs\": [1, 2, 3, None, 5],\n",
        "        \"names\": [\"foo\", \"ham\", \"spam\", \"egg\", None],\n",
        "        \"random\": np.random.rand(5),\n",
        "        \"groups\": [\"A\", \"A\", \"B\", \"C\", \"B\"],\n",
        "  }\n",
        ")\n",
        "\n",
        "print(df)\n"
      ],
      "metadata": {
        "colab": {
          "base_uri": "https://localhost:8080/"
        },
        "id": "sxJVCKTGAWds",
        "outputId": "18502101-3bc9-479b-9314-b92421b5734f"
      },
      "execution_count": 3,
      "outputs": [
        {
          "output_type": "stream",
          "name": "stdout",
          "text": [
            "shape: (5, 4)\n",
            "┌──────┬───────┬──────────┬────────┐\n",
            "│ nrs  ┆ names ┆ random   ┆ groups │\n",
            "│ ---  ┆ ---   ┆ ---      ┆ ---    │\n",
            "│ i64  ┆ str   ┆ f64      ┆ str    │\n",
            "╞══════╪═══════╪══════════╪════════╡\n",
            "│ 1    ┆ foo   ┆ 0.957748 ┆ A      │\n",
            "│ 2    ┆ ham   ┆ 0.491344 ┆ A      │\n",
            "│ 3    ┆ spam  ┆ 0.466709 ┆ B      │\n",
            "│ null ┆ egg   ┆ 0.594892 ┆ C      │\n",
            "│ 5    ┆ null  ┆ 0.722804 ┆ B      │\n",
            "└──────┴───────┴──────────┴────────┘\n"
          ]
        }
      ]
    },
    {
      "cell_type": "code",
      "source": [
        "out = df.select(\n",
        "  pl.sum(\"nrs\"),\n",
        "  pl.col(\"names\").sort(),\n",
        "  pl.col(\"random\"),\n",
        "  pl.col(\"names\").first().alias(\"first name\"),\n",
        "  (pl.mean(\"nrs\") * 10).alias(\"10xnrs\"),\n",
        ")\n",
        "\n",
        "\n",
        "\n",
        "print(out)\n",
        ""
      ],
      "metadata": {
        "colab": {
          "base_uri": "https://localhost:8080/"
        },
        "id": "I56RzmKPAgHo",
        "outputId": "95525aa8-cc38-46ea-a7bd-8a90c69f9c49"
      },
      "execution_count": 4,
      "outputs": [
        {
          "output_type": "stream",
          "name": "stdout",
          "text": [
            "shape: (5, 5)\n",
            "┌─────┬───────┬──────────┬────────────┬────────┐\n",
            "│ nrs ┆ names ┆ random   ┆ first name ┆ 10xnrs │\n",
            "│ --- ┆ ---   ┆ ---      ┆ ---        ┆ ---    │\n",
            "│ i64 ┆ str   ┆ f64      ┆ str        ┆ f64    │\n",
            "╞═════╪═══════╪══════════╪════════════╪════════╡\n",
            "│ 11  ┆ null  ┆ 0.957748 ┆ foo        ┆ 27.5   │\n",
            "│ 11  ┆ egg   ┆ 0.491344 ┆ foo        ┆ 27.5   │\n",
            "│ 11  ┆ foo   ┆ 0.466709 ┆ foo        ┆ 27.5   │\n",
            "│ 11  ┆ ham   ┆ 0.594892 ┆ foo        ┆ 27.5   │\n",
            "│ 11  ┆ spam  ┆ 0.722804 ┆ foo        ┆ 27.5   │\n",
            "└─────┴───────┴──────────┴────────────┴────────┘\n"
          ]
        }
      ]
    },
    {
      "cell_type": "code",
      "source": [
        "df = df.with_columns(\n",
        "    pl.sum(\"nrs\").alias(\"nrs_sum\"),\n",
        "    pl.col(\"random\").count().alias(\"count\"),\n",
        ")\n",
        "print(df)"
      ],
      "metadata": {
        "colab": {
          "base_uri": "https://localhost:8080/"
        },
        "id": "JcqvmiWoAoGk",
        "outputId": "4ee3f674-6902-4e77-9431-6fb1c0aa27f4"
      },
      "execution_count": 5,
      "outputs": [
        {
          "output_type": "stream",
          "name": "stdout",
          "text": [
            "shape: (5, 6)\n",
            "┌──────┬───────┬──────────┬────────┬─────────┬───────┐\n",
            "│ nrs  ┆ names ┆ random   ┆ groups ┆ nrs_sum ┆ count │\n",
            "│ ---  ┆ ---   ┆ ---      ┆ ---    ┆ ---     ┆ ---   │\n",
            "│ i64  ┆ str   ┆ f64      ┆ str    ┆ i64     ┆ u32   │\n",
            "╞══════╪═══════╪══════════╪════════╪═════════╪═══════╡\n",
            "│ 1    ┆ foo   ┆ 0.957748 ┆ A      ┆ 11      ┆ 5     │\n",
            "│ 2    ┆ ham   ┆ 0.491344 ┆ A      ┆ 11      ┆ 5     │\n",
            "│ 3    ┆ spam  ┆ 0.466709 ┆ B      ┆ 11      ┆ 5     │\n",
            "│ null ┆ egg   ┆ 0.594892 ┆ C      ┆ 11      ┆ 5     │\n",
            "│ 5    ┆ null  ┆ 0.722804 ┆ B      ┆ 11      ┆ 5     │\n",
            "└──────┴───────┴──────────┴────────┴─────────┴───────┘\n"
          ]
        }
      ]
    },
    {
      "cell_type": "code",
      "source": [
        "out = df.groupby(\"groups\").agg(\n",
        "    pl.sum(\"nrs\"),  # sum nrs by groups\n",
        "    pl.col(\"random\").count().alias(\"count\"),  # count group members\n",
        "    # sum random where name != null\n",
        "    pl.col(\"random\").filter(pl.col(\"names\").is_not_null()).sum().suffix(\"_sum\"),\n",
        "    pl.col(\"names\").reverse().alias(\"reversed names\"),\n",
        ")\n",
        "print(out)"
      ],
      "metadata": {
        "colab": {
          "base_uri": "https://localhost:8080/"
        },
        "id": "KdKbbJviAxKC",
        "outputId": "d0892744-c512-472c-f297-d52135c6b0cd"
      },
      "execution_count": 6,
      "outputs": [
        {
          "output_type": "stream",
          "name": "stdout",
          "text": [
            "shape: (3, 5)\n",
            "┌────────┬──────┬───────┬────────────┬────────────────┐\n",
            "│ groups ┆ nrs  ┆ count ┆ random_sum ┆ reversed names │\n",
            "│ ---    ┆ ---  ┆ ---   ┆ ---        ┆ ---            │\n",
            "│ str    ┆ i64  ┆ u32   ┆ f64        ┆ list[str]      │\n",
            "╞════════╪══════╪═══════╪════════════╪════════════════╡\n",
            "│ B      ┆ 8    ┆ 2     ┆ 0.466709   ┆ [null, \"spam\"] │\n",
            "│ A      ┆ 3    ┆ 2     ┆ 1.449092   ┆ [\"ham\", \"foo\"] │\n",
            "│ C      ┆ null ┆ 1     ┆ 0.594892   ┆ [\"egg\"]        │\n",
            "└────────┴──────┴───────┴────────────┴────────────────┘\n"
          ]
        }
      ]
    },
    {
      "cell_type": "code",
      "source": [
        "df = df.with_columns(\n",
        "    pl.sum(5).alias(\"random_sum\"),\n",
        ")\n",
        "print(df)"
      ],
      "metadata": {
        "colab": {
          "base_uri": "https://localhost:8080/"
        },
        "id": "DMvk4gzYA2b3",
        "outputId": "3326fa15-f082-416f-8286-fe7de51076f4"
      },
      "execution_count": 7,
      "outputs": [
        {
          "output_type": "stream",
          "name": "stdout",
          "text": [
            "shape: (5, 7)\n",
            "┌──────┬───────┬──────────┬────────┬─────────┬───────┬────────────┐\n",
            "│ nrs  ┆ names ┆ random   ┆ groups ┆ nrs_sum ┆ count ┆ random_sum │\n",
            "│ ---  ┆ ---   ┆ ---      ┆ ---    ┆ ---     ┆ ---   ┆ ---        │\n",
            "│ i64  ┆ str   ┆ f64      ┆ str    ┆ i64     ┆ u32   ┆ i64        │\n",
            "╞══════╪═══════╪══════════╪════════╪═════════╪═══════╪════════════╡\n",
            "│ 1    ┆ foo   ┆ 0.957748 ┆ A      ┆ 11      ┆ 5     ┆ 5          │\n",
            "│ 2    ┆ ham   ┆ 0.491344 ┆ A      ┆ 11      ┆ 5     ┆ 5          │\n",
            "│ 3    ┆ spam  ┆ 0.466709 ┆ B      ┆ 11      ┆ 5     ┆ 5          │\n",
            "│ null ┆ egg   ┆ 0.594892 ┆ C      ┆ 11      ┆ 5     ┆ 5          │\n",
            "│ 5    ┆ null  ┆ 0.722804 ┆ B      ┆ 11      ┆ 5     ┆ 5          │\n",
            "└──────┴───────┴──────────┴────────┴─────────┴───────┴────────────┘\n"
          ]
        }
      ]
    }
  ]
}