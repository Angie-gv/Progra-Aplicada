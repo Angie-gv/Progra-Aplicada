{
  "nbformat": 4,
  "nbformat_minor": 0,
  "metadata": {
    "colab": {
      "provenance": [],
      "authorship_tag": "ABX9TyODb9HVtAPYMDsw/FIwcS7M",
      "include_colab_link": true
    },
    "kernelspec": {
      "name": "python3",
      "display_name": "Python 3"
    },
    "language_info": {
      "name": "python"
    }
  },
  "cells": [
    {
      "cell_type": "markdown",
      "metadata": {
        "id": "view-in-github",
        "colab_type": "text"
      },
      "source": [
        "<a href=\"https://colab.research.google.com/github/Angie-gv/Progra-Aplicada/blob/main/tarea_listas.ipynb\" target=\"_parent\"><img src=\"https://colab.research.google.com/assets/colab-badge.svg\" alt=\"Open In Colab\"/></a>"
      ]
    },
    {
      "cell_type": "code",
      "execution_count": 2,
      "metadata": {
        "colab": {
          "base_uri": "https://localhost:8080/"
        },
        "id": "4xBNZiR49tc3",
        "outputId": "a5741d86-8c3b-443a-e062-ed1627c149cd"
      },
      "outputs": [
        {
          "output_type": "stream",
          "name": "stdout",
          "text": [
            "[6, 2, 4, 2, 1]\n"
          ]
        }
      ],
      "source": [
        "l=[1,2,0,4,2,6]\n",
        "l= [numero for numero in l if numero != 0]\n",
        "l.reverse()\n",
        "print(l)"
      ]
    },
    {
      "cell_type": "code",
      "source": [
        "l=[0,1,2,3]\n",
        "l= [numero for numero in l if numero != 0]\n",
        "l.reverse()\n",
        "print(l)"
      ],
      "metadata": {
        "colab": {
          "base_uri": "https://localhost:8080/"
        },
        "id": "quMPB-CX-JkD",
        "outputId": "ab39caaa-9f46-490b-932a-b49e23459bea"
      },
      "execution_count": 3,
      "outputs": [
        {
          "output_type": "stream",
          "name": "stdout",
          "text": [
            "[3, 2, 1]\n"
          ]
        }
      ]
    },
    {
      "cell_type": "code",
      "source": [
        "l=[0,1,0,2,0,3]\n",
        "l= [numero for numero in l if numero != 0]\n",
        "l.reverse()\n",
        "print(l)"
      ],
      "metadata": {
        "colab": {
          "base_uri": "https://localhost:8080/"
        },
        "id": "PS1kIV7O-Nv9",
        "outputId": "1fb8fd2f-4e52-4e8d-8325-e7826570934b"
      },
      "execution_count": 4,
      "outputs": [
        {
          "output_type": "stream",
          "name": "stdout",
          "text": [
            "[3, 2, 1]\n"
          ]
        }
      ]
    },
    {
      "cell_type": "code",
      "source": [
        "l=[0,0,2,2,3,3]\n",
        "l= [numero for numero in l if numero != 0]\n",
        "l.reverse()\n",
        "print(l)"
      ],
      "metadata": {
        "colab": {
          "base_uri": "https://localhost:8080/"
        },
        "id": "Hz-tbdBs-V6l",
        "outputId": "883370df-1400-456a-a558-0f70d0d4767c"
      },
      "execution_count": 5,
      "outputs": [
        {
          "output_type": "stream",
          "name": "stdout",
          "text": [
            "[3, 3, 2, 2]\n"
          ]
        }
      ]
    }
  ]
}