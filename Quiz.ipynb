{
  "nbformat": 4,
  "nbformat_minor": 0,
  "metadata": {
    "colab": {
      "provenance": [],
      "authorship_tag": "ABX9TyNe1BcL4YXDbi89LsuTOfGL",
      "include_colab_link": true
    },
    "kernelspec": {
      "name": "python3",
      "display_name": "Python 3"
    },
    "language_info": {
      "name": "python"
    }
  },
  "cells": [
    {
      "cell_type": "markdown",
      "metadata": {
        "id": "view-in-github",
        "colab_type": "text"
      },
      "source": [
        "<a href=\"https://colab.research.google.com/github/Angie-gv/Progra-Aplicada/blob/main/Quiz.ipynb\" target=\"_parent\"><img src=\"https://colab.research.google.com/assets/colab-badge.svg\" alt=\"Open In Colab\"/></a>"
      ]
    },
    {
      "cell_type": "code",
      "execution_count": 1,
      "metadata": {
        "colab": {
          "base_uri": "https://localhost:8080/"
        },
        "id": "M3jd-Tuj8bzi",
        "outputId": "dee13594-714e-4a09-a1ae-99ad37610859"
      },
      "outputs": [
        {
          "output_type": "stream",
          "name": "stdout",
          "text": [
            "<map object at 0x7e38b2d78250>\n",
            "<map object at 0x7e38b2d78250>\n",
            "<map object at 0x7e38b2d78250>\n",
            "<map object at 0x7e38b2d78250>\n"
          ]
        }
      ],
      "source": [
        "e=[1,2,3,5]\n",
        "\n",
        "def suma(x):\n",
        "  return x+5\n",
        "\n",
        "y=map(suma,e)\n",
        "\n",
        "for i in y:\n",
        "  print(y)"
      ]
    },
    {
      "cell_type": "code",
      "source": [
        "def par (g):\n",
        "  return g%2==0\n",
        "\n",
        "filter(par,e)\n",
        "print(filter (par,e))"
      ],
      "metadata": {
        "colab": {
          "base_uri": "https://localhost:8080/"
        },
        "id": "RYbw4XT8861Z",
        "outputId": "33298579-1b6e-4446-b9a0-6c652b669959"
      },
      "execution_count": 2,
      "outputs": [
        {
          "output_type": "stream",
          "name": "stdout",
          "text": [
            "<filter object at 0x7e38b2d78190>\n"
          ]
        }
      ]
    },
    {
      "cell_type": "code",
      "source": [
        "e=tuple(filter(lambda x:x%2==0, [1,5,3,2,6]))\n",
        "tuple (map(lambda x:x/2,e))"
      ],
      "metadata": {
        "colab": {
          "base_uri": "https://localhost:8080/"
        },
        "id": "Ll4lAumv8_ng",
        "outputId": "6e9a8cbc-138a-41df-b250-f0873c2fbc10"
      },
      "execution_count": 3,
      "outputs": [
        {
          "output_type": "execute_result",
          "data": {
            "text/plain": [
              "(1.0, 3.0)"
            ]
          },
          "metadata": {},
          "execution_count": 3
        }
      ]
    }
  ]
}