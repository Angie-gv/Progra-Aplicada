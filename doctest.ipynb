{
  "nbformat": 4,
  "nbformat_minor": 0,
  "metadata": {
    "colab": {
      "provenance": [],
      "authorship_tag": "ABX9TyP5ir3sjzx3yOIJkw6bZAJd",
      "include_colab_link": true
    },
    "kernelspec": {
      "name": "python3",
      "display_name": "Python 3"
    },
    "language_info": {
      "name": "python"
    }
  },
  "cells": [
    {
      "cell_type": "markdown",
      "metadata": {
        "id": "view-in-github",
        "colab_type": "text"
      },
      "source": [
        "<a href=\"https://colab.research.google.com/github/Angie-gv/Progra-Aplicada/blob/main/doctest.ipynb\" target=\"_parent\"><img src=\"https://colab.research.google.com/assets/colab-badge.svg\" alt=\"Open In Colab\"/></a>"
      ]
    },
    {
      "cell_type": "code",
      "execution_count": null,
      "metadata": {
        "id": "p0ibeAh4-rBN"
      },
      "outputs": [],
      "source": [
        "def calcular_area_triangulo(base, altura):\n",
        "    \"\"\"\n",
        "    Calcula el área de un triángulo.\n",
        "\n",
        "    Args:\n",
        "        base (float): La longitud de la base del triángulo.\n",
        "        altura (float): La altura del triángulo.\n",
        "\n",
        "    Returns:\n",
        "        float: El área del triángulo.\n",
        "\n",
        "    >>> calcular_area_triangulo(5, 4)\n",
        "    10.0\n",
        "    >>> calcular_area_triangulo(8, 6)\n",
        "    24.0\n",
        "    >>> calcular_area_triangulo(10, 12)\n",
        "    60.0\n",
        "    \"\"\"\n",
        "    area = 0.5 * base * altura\n",
        "    return area\n",
        "\n",
        "if __name__ == \"__main__\":\n",
        "    import doctest\n",
        "    doctest.testmod()\n"
      ]
    }
  ]
}