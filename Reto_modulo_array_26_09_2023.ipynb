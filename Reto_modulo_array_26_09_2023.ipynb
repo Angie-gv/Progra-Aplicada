{
  "nbformat": 4,
  "nbformat_minor": 0,
  "metadata": {
    "colab": {
      "provenance": [],
      "authorship_tag": "ABX9TyOnQG1BTtDqRaH2FvC+e0xC",
      "include_colab_link": true
    },
    "kernelspec": {
      "name": "python3",
      "display_name": "Python 3"
    },
    "language_info": {
      "name": "python"
    }
  },
  "cells": [
    {
      "cell_type": "markdown",
      "metadata": {
        "id": "view-in-github",
        "colab_type": "text"
      },
      "source": [
        "<a href=\"https://colab.research.google.com/github/Angie-gv/Progra-Aplicada/blob/main/Reto_modulo_array_26_09_2023.ipynb\" target=\"_parent\"><img src=\"https://colab.research.google.com/assets/colab-badge.svg\" alt=\"Open In Colab\"/></a>"
      ]
    },
    {
      "cell_type": "markdown",
      "source": [
        "**RETO EN GRUPOS**\n",
        "Integrantes:\n",
        "> Angie Gabriela Gallegos Vargas 20211005108\n",
        "\n",
        "\n",
        "> Nicolas Felipe Macias Paz 20212005141\n",
        "\n",
        "\n",
        "> Angela Juliana Hidalgo Caina 20212005082"
      ],
      "metadata": {
        "id": "-Vi7FtHfJMj9"
      }
    },
    {
      "cell_type": "markdown",
      "source": [
        "**Suma de los elementos de un arreglo**"
      ],
      "metadata": {
        "id": "TSUTN1QfU9ga"
      }
    },
    {
      "cell_type": "code",
      "execution_count": 16,
      "metadata": {
        "colab": {
          "base_uri": "https://localhost:8080/"
        },
        "id": "Q3XfLfDFHD3r",
        "outputId": "0b75c23c-7592-401e-8919-38bebcb223a3"
      },
      "outputs": [
        {
          "output_type": "stream",
          "name": "stdout",
          "text": [
            "La suma de los elementos del arreglo es: 15\n"
          ]
        }
      ],
      "source": [
        "import array\n",
        "\n",
        "mi_arreglo = array.array('i', [1, 2, 3, 4, 5])\n",
        "\n",
        "suma = 0\n",
        "\n",
        "for elemento in mi_arreglo:\n",
        "    suma += elemento\n",
        "\n",
        "print(\"La suma de los elementos del arreglo es:\", suma)"
      ]
    },
    {
      "cell_type": "markdown",
      "source": [
        "**Suma a un arreglo de arreglos**"
      ],
      "metadata": {
        "id": "xJhlVdcnJdYn"
      }
    },
    {
      "cell_type": "code",
      "source": [
        "import array\n",
        "\n",
        "arreglo_de_arreglos = [\n",
        "    array.array('i', [1, -2, 3]),\n",
        "    array.array('i', [4, 5, -6]),\n",
        "    array.array('i', [-7, 8, 9])\n",
        "]\n",
        "\n",
        "suma_resultante = array.array('i', [0, 0, 0])\n",
        "\n",
        "for arreglo in arreglo_de_arreglos:\n",
        "    suma_resultante = array.array('i', [x + y for x, y in zip(suma_resultante, arreglo)])\n",
        "\n",
        "print(\"La suma de los arreglos es:\", suma_resultante)"
      ],
      "metadata": {
        "colab": {
          "base_uri": "https://localhost:8080/"
        },
        "id": "lWTDfLE3JL9e",
        "outputId": "7a8f817a-64a1-4b11-c7fe-0b044a9a02f1"
      },
      "execution_count": 17,
      "outputs": [
        {
          "output_type": "stream",
          "name": "stdout",
          "text": [
            "La suma de los arreglos es: array('i', [-2, 11, 6])\n"
          ]
        }
      ]
    },
    {
      "cell_type": "markdown",
      "source": [
        "**Sumar una constante a un arreglo**"
      ],
      "metadata": {
        "id": "jTLiQlHrNSVg"
      }
    },
    {
      "cell_type": "code",
      "source": [
        "import array\n",
        "\n",
        "mi_arreglo = array.array('i', [1, 2, 3, 4, 5])\n",
        "\n",
        "constante = 2\n",
        "\n",
        "for i in range(len(mi_arreglo)):\n",
        "    mi_arreglo[i] += constante\n",
        "\n",
        "print(\"El arreglo después de sumar la constante es:\", mi_arreglo)"
      ],
      "metadata": {
        "colab": {
          "base_uri": "https://localhost:8080/"
        },
        "id": "dXe1_UeFNyUY",
        "outputId": "acc3cf8e-04a8-4bf4-cbdf-30b48310179e"
      },
      "execution_count": 20,
      "outputs": [
        {
          "output_type": "stream",
          "name": "stdout",
          "text": [
            "El arreglo después de sumar la constante es: array('i', [3, 4, 5, 6, 7])\n"
          ]
        }
      ]
    },
    {
      "cell_type": "markdown",
      "source": [
        "**Sumar una constante a un arreglo de arreglos**"
      ],
      "metadata": {
        "id": "ZLyDWJizT0CY"
      }
    },
    {
      "cell_type": "code",
      "source": [
        "import array\n",
        "\n",
        "arreglo_de_arreglos = [\n",
        "    array.array('i', [1, -2, 3]),\n",
        "    array.array('i', [4, 5, -6]),\n",
        "    array.array('i', [-7, 8, 9])\n",
        "]\n",
        "\n",
        "constante = 20\n",
        "\n",
        "for arreglo in arreglo_de_arreglos:\n",
        "    for i in range(len(arreglo)):\n",
        "        arreglo[i] += constante\n",
        "\n",
        "print(\"El arreglo de arreglos después de sumar la constante es:\")\n",
        "for arreglo in arreglo_de_arreglos:\n",
        "    print(arreglo)"
      ],
      "metadata": {
        "colab": {
          "base_uri": "https://localhost:8080/"
        },
        "id": "_R8cBmXjUDXv",
        "outputId": "ec8b1e0e-b7e0-4071-9976-78e299b14ccb"
      },
      "execution_count": 19,
      "outputs": [
        {
          "output_type": "stream",
          "name": "stdout",
          "text": [
            "El arreglo de arreglos después de sumar la constante es:\n",
            "array('i', [21, 18, 23])\n",
            "array('i', [24, 25, 14])\n",
            "array('i', [13, 28, 29])\n"
          ]
        }
      ]
    }
  ]
}