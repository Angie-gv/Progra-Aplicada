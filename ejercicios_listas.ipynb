{
  "nbformat": 4,
  "nbformat_minor": 0,
  "metadata": {
    "colab": {
      "provenance": [],
      "authorship_tag": "ABX9TyNDcYWzQ6Q+z/z/bDTwuUJY",
      "include_colab_link": true
    },
    "kernelspec": {
      "name": "python3",
      "display_name": "Python 3"
    },
    "language_info": {
      "name": "python"
    }
  },
  "cells": [
    {
      "cell_type": "markdown",
      "metadata": {
        "id": "view-in-github",
        "colab_type": "text"
      },
      "source": [
        "<a href=\"https://colab.research.google.com/github/Angie-gv/Progra-Aplicada/blob/main/ejercicios_listas.ipynb\" target=\"_parent\"><img src=\"https://colab.research.google.com/assets/colab-badge.svg\" alt=\"Open In Colab\"/></a>"
      ]
    },
    {
      "cell_type": "code",
      "execution_count": 1,
      "metadata": {
        "colab": {
          "base_uri": "https://localhost:8080/"
        },
        "id": "_iHjKJkEBaYs",
        "outputId": "cd0b80f7-870e-49af-e472-709e98a42a84"
      },
      "outputs": [
        {
          "output_type": "stream",
          "name": "stdout",
          "text": [
            "[6, 3, 8, 1, 4]\n"
          ]
        }
      ],
      "source": [
        "def reorganizar(l):\n",
        "  n=len(l)\n",
        "  if n % 2 == 1:\n",
        "    m=n//2\n",
        "    r=l[m+1:]+l[m:m+1]+l[:m]\n",
        "  else:\n",
        "    m=n//2\n",
        "    r=l[m:]+l[:m]\n",
        "  return r\n",
        "\n",
        "g=[1, 4, 8, 6, 3]\n",
        "\n",
        "x = reorganizar(g)\n",
        "print(x)"
      ]
    },
    {
      "cell_type": "code",
      "source": [
        "def reordenar_lista(lista):\n",
        "\n",
        "    cambiar_lista = lista[1:-1][::-1]\n",
        "    return [lista[0]] + cambiar_lista + [lista[-1]]\n",
        "\n",
        "g = [1, 2, 3, 4, 5, 6]\n",
        "\n",
        "r = reordenar_lista(g)\n",
        "print(r)\n",
        ""
      ],
      "metadata": {
        "colab": {
          "base_uri": "https://localhost:8080/"
        },
        "id": "svFeG_MPBhdI",
        "outputId": "340a6c2a-8b27-4ebb-a195-ac7e964b5d0f"
      },
      "execution_count": 3,
      "outputs": [
        {
          "output_type": "stream",
          "name": "stdout",
          "text": [
            "[1, 5, 4, 3, 2, 6]\n"
          ]
        }
      ]
    }
  ]
}